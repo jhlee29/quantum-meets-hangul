{
  "cells": [
    {
      "cell_type": "code",
      "execution_count": 1,
      "metadata": {
        "id": "rXZMpazXmKCg"
      },
      "outputs": [],
      "source": [
        "# from PIL import Image\n",
        "from PIL import Image, ImageOps\n",
        "import os, glob\n",
        "import numpy as np\n",
        "from sklearn import model_selection #cross_validation\n",
        "\n",
        "# General imports\n",
        "import os\n",
        "import gzip\n",
        "import numpy as np\n",
        "import matplotlib.pyplot as plt\n",
        "from pylab import cm\n",
        "import warnings"
      ]
    },
    {
      "cell_type": "code",
      "source": [
        "# input\n",
        "classes = [\"bul\", \"pul\", \"ppul\"]"
      ],
      "metadata": {
        "id": "-ZvkH6UCoEQ3"
      },
      "execution_count": 2,
      "outputs": []
    },
    {
      "cell_type": "code",
      "source": [
        "# image size of 28 x 28\n",
        "image_size = 28\n",
        "# Maximum number of sheets to read\n",
        "max_read = 60"
      ],
      "metadata": {
        "id": "k_2JAX8HoDvw"
      },
      "execution_count": 3,
      "outputs": []
    },
    {
      "cell_type": "code",
      "source": [
        "num_classes = len(classes)"
      ],
      "metadata": {
        "id": "-URfRUKroU76"
      },
      "execution_count": 4,
      "outputs": []
    },
    {
      "cell_type": "code",
      "source": [
        "# load the image\n",
        "X = []\n",
        "Y = []\n",
        "T = []\n",
        "for index, classlabel in enumerate(classes):\n",
        "    images_dir = \"./triple/\" + classlabel\n",
        "    files = glob.glob(images_dir + \"/*.jpg\")\n",
        "    for i, file in enumerate(files):\n",
        "        # Stop if you read more than max_read to make the number of sheets for each class\n",
        "        if i >= max_read: break\n",
        "        # open the file, read as data, add to X \n",
        "        # Repeatedly add labels with the same index to Y\n",
        "        image = Image.open(file)\n",
        "        image = ImageOps.invert(image)\n",
        "        image = image.convert(\"L\")\n",
        "        image = image.resize((image_size, image_size))\n",
        "        data = np.asarray(image)\n",
        "        X.append(data)\n",
        "        Y.append(index)\n",
        "\n",
        "images_dir = \"./triple\"\n",
        "files = glob.glob(images_dir + \"/*.jpg\")\n",
        "for i, file in enumerate(files):\n",
        "    # open the file, read as data, add to X \n",
        "    # Repeatedly add labels with the same index to Y\n",
        "    if i >= 36: break\n",
        "    image = Image.open(file)\n",
        "    image = ImageOps.invert(image)\n",
        "    image = image.convert(\"L\")\n",
        "    image = image.resize((image_size, image_size))\n",
        "    data = np.asarray(image)\n",
        "    T.append(data)"
      ],
      "metadata": {
        "id": "no_V_paioXvG"
      },
      "execution_count": 5,
      "outputs": []
    },
    {
      "cell_type": "code",
      "source": [
        "X = np.array(X)\n",
        "Y = np.array(Y)\n",
        "T = np.array(T)\n",
        "print(X.shape,T.shape)"
      ],
      "metadata": {
        "colab": {
          "base_uri": "https://localhost:8080/"
        },
        "id": "fa-bFT3LqalZ",
        "outputId": "6d19cee9-878d-4c9c-d30e-d85db2085ef2"
      },
      "execution_count": 6,
      "outputs": [
        {
          "output_type": "stream",
          "name": "stdout",
          "text": [
            "(180, 28, 28) (36, 28, 28)\n"
          ]
        }
      ]
    },
    {
      "cell_type": "code",
      "source": [
        "X_train, X_test, y_train, y_test = model_selection.train_test_split(X, Y, test_size=0.2, random_state=42)\n",
        "X_train = X_train.reshape(len(X_train), -1).astype(np.float64)\n",
        "X_test = X_test.reshape(len(X_test), -1).astype(np.float64)\n",
        "T = T.reshape(len(T), -1).astype(np.float64)"
      ],
      "metadata": {
        "id": "gSKVfB1lqeDI"
      },
      "execution_count": 7,
      "outputs": []
    },
    {
      "cell_type": "code",
      "source": [
        "fig = plt.figure()\n",
        "\n",
        "LABELS = [0, 1, 2]\n",
        "num_labels = len(LABELS)\n",
        "for i in range(num_labels):\n",
        "    ax = fig.add_subplot(1, num_labels, i+1)\n",
        "    img = X[Y==LABELS[i]][0].reshape((28,28))\n",
        "    ax.imshow(img, cmap=\"Greys\")"
      ],
      "metadata": {
        "colab": {
          "base_uri": "https://localhost:8080/",
          "height": 149
        },
        "id": "fibiaaQUqgst",
        "outputId": "16fcf0b2-4c26-458d-bc29-b906477cfd97"
      },
      "execution_count": 8,
      "outputs": [
        {
          "output_type": "display_data",
          "data": {
            "image/png": "[encoded data removed]",
            "text/plain": [
              "<Figure size 432x288 with 3 Axes>"
            ]
          },
          "metadata": {
            "needs_background": "light"
          }
        }
      ]
    },
    {
      "cell_type": "code",
      "source": [
        "print(Y)"
      ],
      "metadata": {
        "colab": {
          "base_uri": "https://localhost:8080/"
        },
        "id": "nHcVjDwmrAsw",
        "outputId": "ba48f1f1-d723-4a6d-e995-08c72cb2c806"
      },
      "execution_count": 9,
      "outputs": [
        {
          "output_type": "stream",
          "name": "stdout",
          "text": [
            "[0 0 0 0 0 0 0 0 0 0 0 0 0 0 0 0 0 0 0 0 0 0 0 0 0 0 0 0 0 0 0 0 0 0 0 0 0\n",
            " 0 0 0 0 0 0 0 0 0 0 0 0 0 0 0 0 0 0 0 0 0 0 0 1 1 1 1 1 1 1 1 1 1 1 1 1 1\n",
            " 1 1 1 1 1 1 1 1 1 1 1 1 1 1 1 1 1 1 1 1 1 1 1 1 1 1 1 1 1 1 1 1 1 1 1 1 1\n",
            " 1 1 1 1 1 1 1 1 1 2 2 2 2 2 2 2 2 2 2 2 2 2 2 2 2 2 2 2 2 2 2 2 2 2 2 2 2\n",
            " 2 2 2 2 2 2 2 2 2 2 2 2 2 2 2 2 2 2 2 2 2 2 2 2 2 2 2 2 2 2 2 2]\n"
          ]
        }
      ]
    },
    {
      "cell_type": "code",
      "source": [
        "print(X_train[0])"
      ],
      "metadata": {
        "colab": {
          "base_uri": "https://localhost:8080/"
        },
        "id": "hC_FPXPKrQDn",
        "outputId": "980d6420-b809-4904-af62-b13a6bcc6d0f"
      },
      "execution_count": 10,
      "outputs": [
        {
          "output_type": "stream",
          "name": "stdout",
          "text": [
            "[  0.   0.   0.   0.   0.   0.   0.   0.   3.   0.   3.   0.   0.   0.\n",
            "   0.   0.   0.   0.   0.   0.   0.   0.   0.   1.   0.   0.   0.   0.\n",
            "   0.   0.   0.   0.   0.   0.   0.   0.   0.   0.   0.   0.   0.   0.\n",
            "   0.   0.   0.   0.   0.   0.   0.   0.   0.   2.   0.   0.   0.   0.\n",
            "   0.   0.   0.   0.   0.   0.   0.   0.   3.   0.   0.   0.   0.   0.\n",
            "   0.   4.   0.   1.   0.   0.   0.   1.   0.   3.   0.   0.   0.   0.\n",
            "   0.   0.   0.   0.   0.   0.   0.   0.  36.  81.  60.  39.  34.  55.\n",
            "  81.  86. 137. 137.  74.   1.   0.   0.   0.   0.   0.   0.   0.   0.\n",
            "   0.   0.   0.   0.   0.   0.   0.   0.  97. 204. 226. 212. 234. 233.\n",
            " 241. 239. 192. 179. 101.  16.   0.   0.   0.   0.   0.   0.   0.   0.\n",
            "   0.   0.   0.   0.   0.   0.   0.   0.   0.  45.  71. 104. 195. 136.\n",
            " 126. 170.  15.  14.   0.   0.   0.   0.   0.   0.   0.   0.   0.   0.\n",
            "   0.   0.   0.   0.   0.   0.   0.   0.   0.   0.   0.  24. 176.  79.\n",
            "  74. 179.   8.   0.   0.   0.   1.   0.   0.   0.   0.   0.   0.   0.\n",
            "   0.   0.   0.   0.   0.   0.   0.   0.   0.   0.   8.  37. 214. 104.\n",
            "  90. 196.  37.   6.   0.   0.   0.   0.   2.   0.   0.   0.   0.   0.\n",
            "   0.   0.   0.   2.   3.   2.   0.   0.   0.   0.  40. 199. 243. 237.\n",
            " 234. 236. 198.  76.   0.   0.   0.   0.   0.   0.   0.   0.   0.   0.\n",
            "   1.   0.   0.   1.   0.   0.   0.   0.   0.   0.   2.  70.  76.  86.\n",
            "  81.  74.  60.  16.   0.   0.   0.   0.   0.   1.   0.   0.   0.   0.\n",
            "   0.   0.   0.   0.   0.   0.   0.   4.   0.   0.   0.   0.   0.   0.\n",
            "   0.   0.   0.   0.   0.   0.   0.   0.   0.   0.   0.   0.   0.   0.\n",
            "   0.   0.   0.   0.   0.   0.   6.  12. 122. 145. 148. 147. 150. 134.\n",
            " 131. 132. 111. 103.  72.  21.   0.   0.   0.   0.   0.   0.   0.   0.\n",
            "   0.   0.   0.   0.   0.   0.   6.  12. 140. 174. 182. 191. 198. 192.\n",
            " 249. 228. 212. 216. 197. 118.  21.   0.   0.   0.   0.   0.   0.   0.\n",
            "   0.   0.   0.   0.   0.   0.   0.   4.   0.   3.   5.   6.   6.  36.\n",
            " 174. 120.   9.  24.  50.  40.   0.   0.   2.   0.   0.   0.   0.   0.\n",
            "   1.   0.   0.   1.   0.   0.   0.   0.   0.   0.   0.   0.   0.   4.\n",
            " 165. 105.   0.   0.   0.   0.   0.   2.   2.   0.   0.   0.   0.   0.\n",
            "   0.   0.   0.   2.   3.   2.   0.   0.   0.   0.   0.   0.   3.   0.\n",
            " 137.  97.   0.   0.   1.   2.   0.   0.   0.   3.   0.   0.   0.   0.\n",
            "   0.   0.   0.   0.   0.   0.   0.   0.   0.   0.   0.  17. 105. 183.\n",
            " 184. 163.  49.   0.   0.   0.   0.   0.   0.   0.   0.   0.   0.   0.\n",
            "   0.   0.   0.   0.   0.   0.   0.   0.   0.   0.   0.  21.  71.  89.\n",
            " 120. 199. 161.  22.   0.   0.   0.   0.   0.   0.   0.   0.   0.   0.\n",
            "   0.   0.   0.   0.   0.   0.   0.   0.   0.   5.   0.   0.   0.   0.\n",
            "  42. 162. 174.  12.   0.   0.   0.   0.   0.   0.   0.   0.   0.   0.\n",
            "   0.   0.   0.   0.   0.   0.   0.   0.   0.   6.   0.   1. 110. 177.\n",
            " 201. 251. 130.   0.   0.   1.   0.   0.   0.   0.   0.   0.   0.   0.\n",
            "   0.   0.   0.   0.   0.   0.   0.   0.   0.   0.   0.  23. 102. 131.\n",
            " 164. 240. 121.   5.   0.   0.   0.   0.   0.   0.   0.   0.   0.   0.\n",
            "   0.   0.   0.   0.   0.   0.   0.   0.   0.   0.   0.   0.   0.  77.\n",
            " 174. 200.  40.   0.   0.   0.   0.   0.   0.   0.   0.   0.   0.   0.\n",
            "   0.   0.   0.   0.   0.   0.   0.   0.   0.   0.   0.  25. 107. 209.\n",
            " 180.  32.   0.  10.  21.   0.   0.   0.   0.   0.   0.   0.   0.   0.\n",
            "   0.   0.   0.   0.   0.   0.   0.   0.   0.   0.   0. 114. 255. 241.\n",
            " 165. 159. 181. 205. 163.  38.   0.   0.   0.   0.   0.   0.   0.   0.\n",
            "   0.   0.   0.   0.   0.   0.   0.   0.   0.   0.   2.  72. 153. 191.\n",
            " 195. 196. 185. 158.  97.  28.   0.   0.   0.   0.   0.   0.   0.   0.\n",
            "   0.   0.   0.   0.   0.   0.   0.   0.   0.   0.   0.   0.  11.  10.\n",
            "   5.   8.   0.   0.   0.   0.   0.   0.   0.   0.   0.   0.   0.   0.\n",
            "   0.   0.   0.   0.   0.   0.   0.   0.   0.   0.   0.   0.   0.   0.\n",
            "   0.   1.   0.   0.   0.   0.   0.   0.   0.   0.   0.   0.   0.   0.\n",
            "   0.   0.   0.   0.   0.   0.   0.   0.   0.   0.   0.   0.   0.   0.\n",
            "   0.   0.   0.   0.   0.   0.   0.   0.   0.   0.   0.   0.   0.   0.]\n"
          ]
        }
      ]
    },
    {
      "cell_type": "code",
      "source": [
        "warnings.filterwarnings(\"ignore\")\n",
        "\n",
        "# scikit-learn imports\n",
        "from sklearn import datasets\n",
        "from sklearn.model_selection import train_test_split\n",
        "from sklearn.preprocessing import StandardScaler, MinMaxScaler\n",
        "from sklearn.decomposition import PCA\n",
        "from sklearn.svm import SVC\n",
        "from sklearn.metrics import accuracy_score\n",
        "\n",
        "# Qiskit imports\n",
        "from qiskit import Aer, execute\n",
        "from qiskit.circuit import QuantumCircuit, Parameter, ParameterVector\n",
        "from qiskit.circuit.library import PauliFeatureMap, ZFeatureMap, ZZFeatureMap\n",
        "from qiskit.circuit.library import TwoLocal, NLocal, RealAmplitudes, EfficientSU2\n",
        "from qiskit.circuit.library import HGate, RXGate, RYGate, RZGate, CXGate, CRXGate, CRZGate\n",
        "from qiskit_machine_learning.kernels import QuantumKernel"
      ],
      "metadata": {
        "id": "GIuHGE4QrT8h"
      },
      "execution_count": 11,
      "outputs": []
    },
    {
      "cell_type": "code",
      "source": [
        "# Standardize\n",
        "ss = StandardScaler()\n",
        "X_train = ss.fit_transform(X_train)\n",
        "X_test = ss.transform(X_test)\n",
        "sample_test = ss.transform(T)\n",
        "print(sample_test)"
      ],
      "metadata": {
        "colab": {
          "base_uri": "https://localhost:8080/"
        },
        "id": "qTfC1WOgrV_s",
        "outputId": "832702e8-f3aa-4a12-d35c-dde4985b591f"
      },
      "execution_count": 12,
      "outputs": [
        {
          "output_type": "stream",
          "name": "stdout",
          "text": [
            "[[-0.34244547  0.76033077 -0.32943015 ... -0.11297673  0.\n",
            "  -0.10599979]\n",
            " [-0.34244547 -0.28240857 -0.32943015 ... -0.11297673  0.\n",
            "  -0.10599979]\n",
            " [ 1.80156094 -0.28240857  1.06580341 ... -0.11297673  0.\n",
            "  -0.10599979]\n",
            " ...\n",
            " [-0.34244547 -0.28240857 -0.32943015 ... -0.11297673  0.\n",
            "  -0.10599979]\n",
            " [-0.34244547 -0.28240857 -0.32943015 ... -0.11297673  0.\n",
            "  -0.10599979]\n",
            " [-0.34244547 -0.28240857 -0.32943015 ... -0.11297673  0.\n",
            "  -0.10599979]]\n"
          ]
        }
      ]
    },
    {
      "cell_type": "code",
      "source": [
        "# Reduce dimensions\n",
        "N_DIM = 5\n",
        "pca = PCA(n_components=N_DIM)\n",
        "X_train = pca.fit_transform(X_train)\n",
        "X_test = pca.transform(X_test)\n",
        "sample_test = pca.transform(sample_test)"
      ],
      "metadata": {
        "id": "GSYSKRvira0g"
      },
      "execution_count": 13,
      "outputs": []
    },
    {
      "cell_type": "code",
      "source": [
        "# Normalize\n",
        "mms = MinMaxScaler((-1, 1))\n",
        "X_train = mms.fit_transform(X_train)\n",
        "X_test = mms.transform(X_test)\n",
        "sample_test = mms.transform(sample_test)"
      ],
      "metadata": {
        "id": "gLykw0Jvrcxq"
      },
      "execution_count": 14,
      "outputs": []
    },
    {
      "cell_type": "code",
      "execution_count": 15,
      "metadata": {
        "colab": {
          "base_uri": "https://localhost:8080/"
        },
        "id": "7xxVvNulmKDF",
        "outputId": "67cdb774-431c-4707-a02a-10607b76eec1"
      },
      "outputs": [
        {
          "output_type": "stream",
          "name": "stdout",
          "text": [
            "Original validation labels:      [0 0 2 1 2 0 0 1 1 1 1 2 1 2 0 0 0 2 1 0 1 2 2 0 0 2 1 0 2 2 1 0 2 2 1 0]\n",
            "Validation labels for 0 vs Rest: [1 1 0 0 0 1 1 0 0 0 0 0 0 0 1 1 1 0 0 1 0 0 0 1 1 0 0 1 0 0 0 1 0 0 0 1]\n"
          ]
        }
      ],
      "source": [
        "# label 0\n",
        "labels_train_0 = np.where(y_train==0, 1, 0)\n",
        "labels_val_0 = np.where(y_test==0, 1, 0)\n",
        "\n",
        "print(f'Original validation labels:      {y_test}')\n",
        "print(f'Validation labels for 0 vs Rest: {labels_val_0}')"
      ]
    },
    {
      "cell_type": "code",
      "execution_count": 16,
      "metadata": {
        "colab": {
          "base_uri": "https://localhost:8080/"
        },
        "id": "N4Mzx2uXmKDF",
        "outputId": "25027d74-35d7-4104-8280-bd3503254735"
      },
      "outputs": [
        {
          "output_type": "stream",
          "name": "stdout",
          "text": [
            "Accuracy of discriminating between label 0 and others: 61.111111111111114%\n"
          ]
        }
      ],
      "source": [
        "pauli_map_0 = PauliFeatureMap(feature_dimension=N_DIM, reps=2, paulis = ['X', 'Y', 'ZZ'])\n",
        "pauli_kernel_0 = QuantumKernel(feature_map=pauli_map_0, quantum_instance=Aer.get_backend('statevector_simulator'))\n",
        "\n",
        "pauli_svc_0 = SVC(kernel='precomputed', probability=True)\n",
        "\n",
        "matrix_train_0 = pauli_kernel_0.evaluate(x_vec=X_train)\n",
        "pauli_svc_0.fit(matrix_train_0, labels_train_0)\n",
        "\n",
        "matrix_val_0 = pauli_kernel_0.evaluate(x_vec=sample_test, y_vec=X_train)\n",
        "pauli_score_0 = pauli_svc_0.score(matrix_val_0, labels_val_0)\n",
        "print(f'Accuracy of discriminating between label 0 and others: {pauli_score_0*100}%')"
      ]
    },
    {
      "cell_type": "code",
      "execution_count": 17,
      "metadata": {
        "colab": {
          "base_uri": "https://localhost:8080/"
        },
        "id": "654MEnUxmKDH",
        "outputId": "233dbf18-c048-47f3-c2c7-f11749276ca4"
      },
      "outputs": [
        {
          "output_type": "stream",
          "name": "stdout",
          "text": [
            "Probability of label 0: [0.27 0.21 0.32 0.26 0.76 0.45 0.56 0.21 0.7  0.21 0.21 0.4  0.21 0.21\n",
            " 0.2  0.27 0.31 0.25 0.29 0.23 0.21 0.2  0.78 0.17 0.66 0.21 0.21 0.81\n",
            " 0.21 0.23 0.76 0.59 0.19 0.22 0.57 0.13]\n"
          ]
        }
      ],
      "source": [
        "matrix_test_0 = pauli_kernel_0.evaluate(x_vec=sample_test, y_vec=X_train)\n",
        "pred_0 = pauli_svc_0.predict_proba(matrix_test_0)[:, 1]\n",
        "print(f'Probability of label 0: {np.round(pred_0, 2)}')"
      ]
    },
    {
      "cell_type": "code",
      "execution_count": 18,
      "metadata": {
        "colab": {
          "base_uri": "https://localhost:8080/"
        },
        "id": "qSQQDdWcmKDI",
        "outputId": "a464d26c-6236-4e8a-9eda-c5bcfb8d8783"
      },
      "outputs": [
        {
          "output_type": "stream",
          "name": "stdout",
          "text": [
            "Original validation labels:      [0 0 2 1 2 0 0 1 1 1 1 2 1 2 0 0 0 2 1 0 1 2 2 0 0 2 1 0 2 2 1 0 2 2 1 0]\n",
            "Validation labels for 0 vs Rest: [0 0 0 1 0 0 0 1 1 1 1 0 1 0 0 0 0 0 1 0 1 0 0 0 0 0 1 0 0 0 1 0 0 0 1 0]\n",
            "Accuracy for validation dataset: 0.7777777777777778\n",
            "[0.32109002 0.27943843 0.26178332 0.26510872 0.25965506 0.2650645\n",
            " 0.2153838  0.45964783 0.28590736 0.26503686 0.53884168 0.2649991\n",
            " 0.19499218 0.40421657 0.5        0.4224729  0.35526492 0.25997703\n",
            " 0.27514994 0.4716428  0.26766373 0.26512692 0.18414377 0.18706201\n",
            " 0.2651264  0.25319269 0.3685846  0.20760344 0.28219574 0.43698131\n",
            " 0.22783239 0.35119493 0.34641216 0.26499567 0.23141035 0.28069156]\n"
          ]
        }
      ],
      "source": [
        "# label 1\n",
        "labels_train_1 = np.where(y_train==1, 1, 0)\n",
        "labels_val_1 = np.where(y_test==1, 1, 0)\n",
        "\n",
        "print(f'Original validation labels:      {y_test}')\n",
        "print(f'Validation labels for 0 vs Rest: {labels_val_1}')\n",
        "\n",
        "zz_map_1 = ZZFeatureMap(feature_dimension=N_DIM, reps=2, entanglement='linear', insert_barriers=True)\n",
        "zz_kernel_1 = QuantumKernel(feature_map=zz_map_1, quantum_instance=Aer.get_backend('statevector_simulator'))\n",
        "\n",
        "zzpc_svc_1 = SVC(kernel='precomputed', probability=True)\n",
        "\n",
        "matrix_train_1 = zz_kernel_1.evaluate(x_vec=X_train)\n",
        "zzpc_svc_1.fit(matrix_train_1, labels_train_1)\n",
        "\n",
        "matrix_val_1 = zz_kernel_1.evaluate(x_vec=X_test, y_vec=X_train)\n",
        "zzpc_score_1 = zzpc_svc_1.score(matrix_val_1, labels_val_1)\n",
        "print(f'Accuracy for validation dataset: {zzpc_score_1}')\n",
        "\n",
        "matrix_test_1 = zz_kernel_1.evaluate(x_vec=sample_test, y_vec=X_train)\n",
        "pred_1 = zzpc_svc_1.predict_proba(matrix_test_1)[:, 1]\n",
        "\n",
        "print(pred_1)"
      ]
    },
    {
      "cell_type": "code",
      "execution_count": 19,
      "metadata": {
        "colab": {
          "base_uri": "https://localhost:8080/"
        },
        "id": "zP3yULvwmKDJ",
        "outputId": "0da582d0-aa34-4dd8-b54e-41a32ef69ef0"
      },
      "outputs": [
        {
          "output_type": "stream",
          "name": "stdout",
          "text": [
            "Original validation labels:      [0 0 2 1 2 0 0 1 1 1 1 2 1 2 0 0 0 2 1 0 1 2 2 0 0 2 1 0 2 2 1 0 2 2 1 0]\n",
            "Validation labels for 0 vs Rest: [0 0 1 0 1 0 0 0 0 0 0 1 0 1 0 0 0 1 0 0 0 1 1 0 0 1 0 0 1 1 0 0 1 1 0 0]\n",
            "Accuracy for validation dataset: 0.7777777777777778\n",
            "[0.3852374  0.15893171 0.18295036 0.81678711 0.20366183 0.12044979\n",
            " 0.37978329 0.20370974 0.18913001 0.79136834 0.20362565 0.2036628\n",
            " 0.75182061 0.19637109 0.2036882  0.12883803 0.39939637 0.22058503\n",
            " 0.20368876 0.24017599 0.37022957 0.73983107 0.29778248 0.84486595\n",
            " 0.19844283 0.22209968 0.29807245 0.17250661 0.20771198 0.44564255\n",
            " 0.15230081 0.12335782 0.18344737 0.84480928 0.16685844 0.80192748]\n"
          ]
        }
      ],
      "source": [
        "# label 2\n",
        "labels_train_2 = np.where(y_train==2, 1, 0)\n",
        "labels_val_2 = np.where(y_test==2, 1, 0)\n",
        "\n",
        "print(f'Original validation labels:      {y_test}')\n",
        "print(f'Validation labels for 0 vs Rest: {labels_val_2}')\n",
        "\n",
        "zz_map_2 = ZZFeatureMap(feature_dimension=N_DIM, reps=2, entanglement='linear', insert_barriers=True)\n",
        "zz_kernel_2 = QuantumKernel(feature_map=zz_map_2, quantum_instance=Aer.get_backend('statevector_simulator'))\n",
        "\n",
        "zzpc_svc_2 = SVC(kernel='precomputed', probability=True)\n",
        "\n",
        "matrix_train_2 = zz_kernel_2.evaluate(x_vec=X_train)\n",
        "zzpc_svc_2.fit(matrix_train_2, labels_train_2)\n",
        "\n",
        "matrix_val_2 = zz_kernel_2.evaluate(x_vec=X_test, y_vec=X_train)\n",
        "zzpc_score_2 = zzpc_svc_2.score(matrix_val_2, labels_val_2)\n",
        "print(f'Accuracy for validation dataset: {zzpc_score_2}')\n",
        "\n",
        "matrix_test_2 = zz_kernel_2.evaluate(x_vec=sample_test, y_vec=X_train)\n",
        "pred_2 = zzpc_svc_2.predict_proba(matrix_test_2)[:, 1]\n",
        "\n",
        "print(pred_2)"
      ]
    },
    {
      "cell_type": "code",
      "execution_count": 20,
      "metadata": {
        "colab": {
          "base_uri": "https://localhost:8080/"
        },
        "id": "nzkTrM2RmKDP",
        "outputId": "c1be85f1-cee0-47cc-85f5-0b0dd2eb57ff"
      },
      "outputs": [
        {
          "output_type": "stream",
          "name": "stdout",
          "text": [
            "Prediction: [2 1 0 2 0 0 0 1 0 2 1 0 2 1 1 1 2 1 0 1 2 2 0 2 0 1 1 0 1 2 0 0 1 2 0 2]\n"
          ]
        }
      ],
      "source": [
        "# prediction\n",
        "pred_test = np.where((pred_0 > pred_1) & (pred_0 > pred_2), \n",
        "                      0, np.where(pred_1 > pred_2, 1, 2))\n",
        "\n",
        "print(f'Prediction: {pred_test}')"
      ]
    }
  ],
  "metadata": {
    "kernelspec": {
      "display_name": "Python 3",
      "language": "python",
      "name": "python3"
    },
    "language_info": {
      "codemirror_mode": {
        "name": "ipython",
        "version": 3
      },
      "file_extension": ".py",
      "mimetype": "text/x-python",
      "name": "python",
      "nbconvert_exporter": "python",
      "pygments_lexer": "ipython3",
      "version": "3.8.5"
    },
    "colab": {
      "name": "challenge-3.ipynb",
      "provenance": []
    }
  },
  "nbformat": 4,
  "nbformat_minor": 0
}