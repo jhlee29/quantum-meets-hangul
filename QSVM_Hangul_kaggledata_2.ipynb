{
 "cells": [
  {
   "cell_type": "code",
   "execution_count": 1,
   "metadata": {},
   "outputs": [],
   "source": [
    "# from PIL import Image\n",
    "from PIL import Image, ImageOps\n",
    "import os, glob\n",
    "import numpy as np\n",
    "from sklearn import model_selection #cross_validation\n",
    "# from keras.utils import np_utils\n",
    "\n",
    "# General imports\n",
    "import os\n",
    "import gzip\n",
    "import numpy as np\n",
    "import matplotlib.pyplot as plt\n",
    "from pylab import cm\n",
    "import warnings"
   ]
  },
  {
   "cell_type": "code",
   "execution_count": 2,
   "metadata": {},
   "outputs": [],
   "source": [
    "# input\n",
    "classes = [\"g\", \"h\"]"
   ]
  },
  {
   "cell_type": "code",
   "execution_count": 3,
   "metadata": {},
   "outputs": [],
   "source": [
    "# image size of 28 x 28\n",
    "image_size = 28\n",
    "# image_size = 8\n",
    "# Maximum number of sheets to read\n",
    "max_read = 20"
   ]
  },
  {
   "cell_type": "code",
   "execution_count": 4,
   "metadata": {},
   "outputs": [],
   "source": [
    "num_classes = len(classes)"
   ]
  },
  {
   "cell_type": "code",
   "execution_count": 5,
   "metadata": {},
   "outputs": [],
   "source": [
    "# load the image\n",
    "X = []\n",
    "Y = []\n",
    "for index, classlabel in enumerate(classes):\n",
    "    images_dir = \"./images/\" + classlabel\n",
    "    files = glob.glob(images_dir + \"/*.jpg\")\n",
    "    for i, file in enumerate(files):\n",
    "        # Stop if you read more than max_read to make the number of sheets for each class\n",
    "        if i >= max_read: break\n",
    "        # open the file, read as data, add to X \n",
    "        # Repeatedly add labels with the same index to Y\n",
    "        image = Image.open(file)\n",
    "        image = ImageOps.invert(image)\n",
    "        image = image.convert(\"L\")\n",
    "        image = image.resize((image_size, image_size))\n",
    "        data = np.asarray(image)\n",
    "        X.append(data)\n",
    "        Y.append(index)"
   ]
  },
  {
   "cell_type": "code",
   "execution_count": 6,
   "metadata": {},
   "outputs": [],
   "source": [
    "X = np.array(X)\n",
    "Y = np.array(Y)"
   ]
  },
  {
   "cell_type": "code",
   "execution_count": 7,
   "metadata": {},
   "outputs": [],
   "source": [
    "X_train, X_test, y_train, y_test = model_selection.train_test_split(X, Y, test_size=0.2, random_state=42)\n",
    "X_train = X_train.reshape(len(X_train), -1).astype(np.float64)\n",
    "X_test = X_test.reshape(len(X_test), -1).astype(np.float64)"
   ]
  },
  {
   "cell_type": "code",
   "execution_count": 8,
   "metadata": {
    "scrolled": true
   },
   "outputs": [
    {
     "data": {
      "image/png": "[encoded data removed]",
      "text/plain": [
       "<Figure size 432x288 with 2 Axes>"
      ]
     },
     "metadata": {
      "needs_background": "light"
     },
     "output_type": "display_data"
    }
   ],
   "source": [
    "fig = plt.figure()\n",
    "\n",
    "LABELS = [0, 1]\n",
    "num_labels = len(LABELS)\n",
    "for i in range(num_labels):\n",
    "    ax = fig.add_subplot(1, num_labels, i+1)\n",
    "    img = X[Y==LABELS[i]][0].reshape((28,28))\n",
    "    ax.imshow(img, cmap=\"Greys\")"
   ]
  },
  {
   "cell_type": "code",
   "execution_count": 9,
   "metadata": {},
   "outputs": [
    {
     "name": "stdout",
     "output_type": "stream",
     "text": [
      "[0 0 0 0 0 0 0 0 0 0 0 0 0 0 0 0 1 1 1 1 1 1 1 1 1 1 1 1 1 1 1 1]\n"
     ]
    }
   ],
   "source": [
    "print(Y)"
   ]
  },
  {
   "cell_type": "code",
   "execution_count": 10,
   "metadata": {},
   "outputs": [
    {
     "name": "stdout",
     "output_type": "stream",
     "text": [
      "[  0.   0.   0.   0.   0.   0.   0.   0.   0.   0.   0.   6.   0.   0.\n",
      "   0.   0.   1.   0.   0.   0.   0.   0.   0.   0.   0.   0.   0.   0.\n",
      "   0.   0.   0.   0.   0.   0.   0.   0.   0.   8.   5.   0.   0.   0.\n",
      "   0.   0.   0.   5.   0.   0.   0.   0.   0.   0.   0.   0.   0.   0.\n",
      "   0.   0.   0.   0.   0.   0.   0.   0.   8.   0.   0.   0.   3.   0.\n",
      "   0.   3.   0.   0.   0.   0.   0.   0.   0.   0.   0.   0.   0.   0.\n",
      "   0.   0.   0.   0.   0.   0.   0.   0.   0.   0.  25.   0.   0.   0.\n",
      "   0.   0.   4.   0.  66.  36.   0.   0.   2.   1.   0.   0.   0.   0.\n",
      "   0.   0.   0.   0.   0.   0.   0.   0.   0. 153. 203.  14.   0.   5.\n",
      "   0.   0.   0.  55. 255. 174.  23.   0.   0.   0.   0.   0.   0.   0.\n",
      "   0.   0.   0.   0.   0.   0.   0.   0.   0. 225. 255.   6.   0.   0.\n",
      "   0.   0.   6.  79. 243.  25.   0.   0.   0.   0.   0.   0.   0.   0.\n",
      "   0.   0.   0.   0.   0.   0.   0.   0.   0. 224. 248.   0.   0.   0.\n",
      "   0.   0.   0.  94. 255.   0.   3.   6.   0.   1.   0.   0.   0.   0.\n",
      "   0.   0.   0.   0.   0.   0.   0.   0.   0. 232. 255.   0.   0.  11.\n",
      "   9.   0.   0.  74. 255.   0.   3.   0.   2.   0.   0.   0.   0.   0.\n",
      "   0.   0.   0.   4.   0.   0.   0.  26. 117. 222. 236. 244. 247. 241.\n",
      " 253.   0.   0.  71. 229.   7.   0.   0.   3.   0.   0.   0.   0.   0.\n",
      "   0.   4.   0.   0.  16. 221. 255. 238. 251. 230. 241. 161.  59.  35.\n",
      "  87.   4.   0.  26. 255. 188. 226. 206. 153.  92.   0.   0.   0.   0.\n",
      "   0.   0.   0.   0.  54. 249. 207.  50.   0.   0.  15.   0.   0.   0.\n",
      "  14.   0.   0.   5. 255. 230. 255. 255. 255. 232.   0.   0.   0.   0.\n",
      "   0.   0.   3.   0.   0.  21.   0.   0. 248. 255. 235. 255. 242.  11.\n",
      "   0.  11.   0.   4. 218.  47.   0.   0.   3.   0.   0.   0.   0.   0.\n",
      "   0.   0.   0.   0.   0.   0.   0. 129. 255. 182.  70. 132. 255. 131.\n",
      "   1.   0.   0.  12. 222.  22.   0.   0.   1.   0.   0.   0.   0.   0.\n",
      "   0.   2.   0.   0.   0.   0.   5. 246. 250.  11.   0.  40. 249. 218.\n",
      "  22.   0.   0.   1. 235.  56.   0.   0.   0.   0.   0.   0.   0.   0.\n",
      "   0.   0.   0.   0.   0.   0.   0. 254. 244.   0.  19. 182. 243.  75.\n",
      "   0.  13.   0.   0. 254.  96.   5.   0.   0.   0.   0.   0.   0.   0.\n",
      "   0.   0.   0.   0.   0.   0.   0. 250. 255. 218. 238. 255. 176.   0.\n",
      "   0.   0.   3.   0. 236.  89.   0.   0.   0.   0.   0.   0.   0.   0.\n",
      "   2.   0.   0.   2.   0.   0.   9.  27. 245. 255. 233.  44.   0.  11.\n",
      "   7.   0.   0.   0.   0.   0.   0.   0.   0.   0.   0.   0.   0.   1.\n",
      "   1.   0.   0.   3.   1.   0.   1.   9.   0.   0.  19.   0.  11. 255.\n",
      " 205.  17.   0.   0.   0.   0.   0.   0.   0.   0.   0.   0.   0.   0.\n",
      "   0.   0.   0.   2.   3.   0.   0.   0.   2.   0.   4.   0.   0. 235.\n",
      "  68.   0.   0.   0.   0.   0.   0.   0.   0.   0.   4.   0.   1.   0.\n",
      "   1.   0.   0.   0.   2.   3.   1.   0.   0.   3.   0.   0.  21. 244.\n",
      "  12.   0.   0.   0.   2.   0.   0.   0.   0.   0.   0.   0.   0.   0.\n",
      "   0.   1.   1.   0.   0.   2.   3.   2.   0.   0.   0.   3.   0. 255.\n",
      " 121.   1.   0.   0.   0.   0.   9.   0.   0.   0.   0.  13.   0.   0.\n",
      "   0.   0.   2.   1.   0.   0.   0.   0.   0.   0.   0.   1.   0. 255.\n",
      " 237.   0.   0.   0.   0.   2.   0.   0.  13.  31. 252. 170.  29.   0.\n",
      "   0.   0.   0.   1.   0.   0.   0.   0.   0.   1.   0.   0.  13. 196.\n",
      " 249.   1.   0.   0.   0.   0.   0.  48. 203. 238. 205.  71.   0.   0.\n",
      "   2.   0.   0.   0.   1.   0.   1.   2.   0.   0.   0.   0.   0.  14.\n",
      " 248. 250. 243. 229. 211. 237. 238. 238. 231.  72.   7.   0.   0.   0.\n",
      "   0.   0.   0.   0.   0.   0.   0.   0.   0.   0.   0.   0.   9.   0.\n",
      "  29. 237. 254. 246. 244. 248. 200.  80.   0.   0.   0.   0.   0.   0.\n",
      "   0.   0.   0.   0.   0.   0.   0.   0.   3.   0.   0.   0.   3.   0.\n",
      "   0.   7.   0.   0.   0.   0.   4.   0.   0.   1.   0.   0.   0.   0.\n",
      "   0.   0.   0.   0.   0.   0.   0.   0.   0.   0.   0.   3.   0.   0.\n",
      "   7.   0.   0.   0.   0.   0.   0.   0.   0.   0.   0.   0.   0.   0.\n",
      "   0.   0.   0.   0.   0.   0.   0.   0.   0.   0.   0.   4.   0.   0.\n",
      "   0.   2.   0.   0.   0.   0.   0.   0.   0.   0.   0.   0.   0.   0.]\n"
     ]
    }
   ],
   "source": [
    "print(X_train[0])"
   ]
  },
  {
   "cell_type": "code",
   "execution_count": 11,
   "metadata": {},
   "outputs": [],
   "source": [
    "warnings.filterwarnings(\"ignore\")\n",
    "\n",
    "# scikit-learn imports\n",
    "from sklearn import datasets\n",
    "from sklearn.model_selection import train_test_split\n",
    "from sklearn.preprocessing import StandardScaler, MinMaxScaler\n",
    "from sklearn.decomposition import PCA\n",
    "from sklearn.svm import SVC\n",
    "from sklearn.metrics import accuracy_score\n",
    "\n",
    "# Qiskit imports\n",
    "from qiskit import Aer, execute\n",
    "from qiskit.circuit import QuantumCircuit, Parameter, ParameterVector\n",
    "from qiskit.circuit.library import PauliFeatureMap, ZFeatureMap, ZZFeatureMap\n",
    "from qiskit.circuit.library import TwoLocal, NLocal, RealAmplitudes, EfficientSU2\n",
    "from qiskit.circuit.library import HGate, RXGate, RYGate, RZGate, CXGate, CRXGate, CRZGate\n",
    "from qiskit_machine_learning.kernels import QuantumKernel"
   ]
  },
  {
   "cell_type": "code",
   "execution_count": 12,
   "metadata": {},
   "outputs": [],
   "source": [
    "# Standardize\n",
    "ss = StandardScaler()\n",
    "X_train = ss.fit_transform(X_train)\n",
    "X_test = ss.transform(X_test)\n",
    "#sample_test = ss.transform(sample_test)"
   ]
  },
  {
   "cell_type": "code",
   "execution_count": 13,
   "metadata": {},
   "outputs": [],
   "source": [
    "# Reduce dimensions\n",
    "N_DIM = 5\n",
    "pca = PCA(n_components=N_DIM)\n",
    "X_train = pca.fit_transform(X_train)\n",
    "X_test = pca.transform(X_test)"
   ]
  },
  {
   "cell_type": "code",
   "execution_count": 14,
   "metadata": {},
   "outputs": [],
   "source": [
    "# Normalize\n",
    "mms = MinMaxScaler((-1, 1))\n",
    "X_train = mms.fit_transform(X_train)\n",
    "X_test = mms.transform(X_test)\n",
    "#sample_test = mms.transform(sample_test)"
   ]
  },
  {
   "cell_type": "code",
   "execution_count": 15,
   "metadata": {},
   "outputs": [
    {
     "data": {
      "image/png": "[encoded data removed]",
      "text/plain": [
       "<Figure size 1411x325.08 with 1 Axes>"
      ]
     },
     "execution_count": 15,
     "metadata": {},
     "output_type": "execute_result"
    }
   ],
   "source": [
    "# 3 features, depth 1, linear entanglement\n",
    "map_zz = ZZFeatureMap(feature_dimension=5, reps=1, entanglement='linear')\n",
    "map_zz.decompose().draw('mpl')"
   ]
  },
  {
   "cell_type": "code",
   "execution_count": 16,
   "metadata": {},
   "outputs": [],
   "source": [
    "zz_kernel = QuantumKernel(feature_map=map_zz, quantum_instance=Aer.get_backend('statevector_simulator'))"
   ]
  },
  {
   "cell_type": "code",
   "execution_count": 17,
   "metadata": {},
   "outputs": [
    {
     "data": {
      "image/png": "[encoded data removed]",
      "text/plain": [
       "<Figure size 720x360 with 2 Axes>"
      ]
     },
     "metadata": {
      "needs_background": "light"
     },
     "output_type": "display_data"
    }
   ],
   "source": [
    "matrix_train = zz_kernel.evaluate(x_vec=X_train)\n",
    "matrix_val = zz_kernel.evaluate(x_vec=X_test, y_vec=X_train)\n",
    "\n",
    "fig, axs = plt.subplots(1, 2, figsize=(10, 5))\n",
    "axs[0].imshow(np.asmatrix(matrix_train),\n",
    "              interpolation='nearest', origin='upper', cmap='Blues')\n",
    "axs[0].set_title(\"training kernel matrix\")\n",
    "axs[1].imshow(np.asmatrix(matrix_val),\n",
    "              interpolation='nearest', origin='upper', cmap='Reds')\n",
    "axs[1].set_title(\"validation kernel matrix\")\n",
    "plt.show()"
   ]
  },
  {
   "cell_type": "code",
   "execution_count": 18,
   "metadata": {},
   "outputs": [
    {
     "name": "stdout",
     "output_type": "stream",
     "text": [
      "Precomputed kernel classification test score: 1.0\n"
     ]
    }
   ],
   "source": [
    "zz_svc = SVC(kernel='precomputed')\n",
    "zz_svc.fit(matrix_train, y_train)\n",
    "zz_score = zz_svc.score(matrix_val, y_test)\n",
    "\n",
    "print(f'Precomputed kernel classification test score: {zz_score}')"
   ]
  },
  {
   "cell_type": "code",
   "execution_count": null,
   "metadata": {},
   "outputs": [],
   "source": []
  }
 ],
 "metadata": {
  "kernelspec": {
   "display_name": "Python 3",
   "language": "python",
   "name": "python3"
  },
  "language_info": {
   "codemirror_mode": {
    "name": "ipython",
    "version": 3
   },
   "file_extension": ".py",
   "mimetype": "text/x-python",
   "name": "python",
   "nbconvert_exporter": "python",
   "pygments_lexer": "ipython3",
   "version": "3.8.5"
  }
 },
 "nbformat": 4,
 "nbformat_minor": 4
}
